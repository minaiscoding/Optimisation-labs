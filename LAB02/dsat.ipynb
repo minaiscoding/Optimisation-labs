import numpy as np

def dsatur(adj_matrix):
    num_vertices = len(adj_matrix)
    colors = -1 * np.ones(num_vertices, dtype=int)
    degrees = np.sum(adj_matrix, axis=1)
    uncolored = set(range(num_vertices))

    current_node = np.argmax(degrees)
    colors[current_node] = 0
    uncolored.remove(current_node)

    while uncolored:
        dsat_values = {node: sat_degree(adj_matrix, colors, node) for node in uncolored}
        current_node = max(dsat_values, key=lambda x: (dsat_values[x], degrees[x]))
        neighbor_colors = colors[np.where(adj_matrix[current_node] == 1)[0]]
        used_colors = set(neighbor_colors[neighbor_colors != -1])

        for color in range(num_vertices):
            if color not in used_colors:
                colors[current_node] = color
                break

        uncolored.remove(current_node)

    return colors
